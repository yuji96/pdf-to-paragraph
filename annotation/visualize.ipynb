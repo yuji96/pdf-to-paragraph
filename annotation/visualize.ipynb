{
 "cells": [
  {
   "cell_type": "code",
   "execution_count": 1,
   "metadata": {},
   "outputs": [],
   "source": [
    "%load_ext autoreload\n",
    "%autoreload 2"
   ]
  },
  {
   "cell_type": "code",
   "execution_count": 22,
   "metadata": {},
   "outputs": [],
   "source": [
    "import bbox_visualizer as bbv\n",
    "import numpy as np\n",
    "from extract_bbox import extract_textbox\n",
    "import plt\n",
    "from pdf2image import convert_from_path\n",
    "\n",
    "pdf_path = \"../A1-1.pdf\"\n",
    "images = convert_from_path(pdf_path, dpi=300)\n",
    "width, height = images[0].size\n",
    "textboxes = list(extract_textbox(pdf_path, width=width, height=height))"
   ]
  },
  {
   "cell_type": "code",
   "execution_count": 25,
   "metadata": {},
   "outputs": [
    {
     "data": {
      "application/vnd.jupyter.widget-view+json": {
       "model_id": "f5fe2d69c9ff44b882d592bcc9f2573a",
       "version_major": 2,
       "version_minor": 0
      },
      "text/plain": [
       "HBox(children=(Image(value=b'\\x89PNG\\r\\n\\x1a\\n\\x00\\x00\\x00\\rIHDR\\x00\\x00\\x02K\\x00\\x00\\x02\\xf0\\x08\\x06\\x00\\x00\\…"
      ]
     },
     "metadata": {},
     "output_type": "display_data"
    }
   ],
   "source": [
    "for img, (texts, bboxes) in plt.hbox(zip(images, textboxes), dpi=180):\n",
    "    img = np.array(img)\n",
    "    img = bbv.draw_multiple_rectangles(img, bboxes=bboxes, bbox_color=(255, 0, 0), is_opaque=True)\n",
    "    plt.imshow(img)"
   ]
  }
 ],
 "metadata": {
  "kernelspec": {
   "display_name": "Python 3",
   "language": "python",
   "name": "python3"
  },
  "language_info": {
   "codemirror_mode": {
    "name": "ipython",
    "version": 3
   },
   "file_extension": ".py",
   "mimetype": "text/x-python",
   "name": "python",
   "nbconvert_exporter": "python",
   "pygments_lexer": "ipython3",
   "version": "3.10.9"
  }
 },
 "nbformat": 4,
 "nbformat_minor": 2
}
