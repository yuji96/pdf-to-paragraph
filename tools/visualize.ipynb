{
 "cells": [
  {
   "cell_type": "code",
   "execution_count": 1,
   "metadata": {},
   "outputs": [],
   "source": [
    "%load_ext autoreload\n",
    "%autoreload 2"
   ]
  },
  {
   "cell_type": "code",
   "execution_count": null,
   "metadata": {},
   "outputs": [],
   "source": [
    "%pip install bbox_visualizer\n",
    "%pip install git+https://github.com/yuji96/plt.git"
   ]
  },
  {
   "cell_type": "code",
   "execution_count": 2,
   "metadata": {},
   "outputs": [],
   "source": [
    "import bbox_visualizer as bbv\n",
    "import numpy as np\n",
    "from extract_bbox import extract_textbox\n",
    "import plt\n",
    "from pdf2image import convert_from_path\n",
    "\n",
    "pdf_path = \"../data/NLP-2023/pdf_dir/A1-1.pdf\"\n",
    "images = convert_from_path(pdf_path, dpi=300)\n",
    "width, height = images[0].size\n",
    "textboxes = list(extract_textbox(pdf_path, width=width, height=height))"
   ]
  },
  {
   "cell_type": "code",
   "execution_count": 3,
   "metadata": {},
   "outputs": [
    {
     "data": {
      "application/vnd.jupyter.widget-view+json": {
       "model_id": "3a09b774983a4a089b2f8c1ff6d89b8e",
       "version_major": 2,
       "version_minor": 0
      },
      "text/plain": [
       "HBox(children=(Image(value=b'\\x89PNG\\r\\n\\x1a\\n\\x00\\x00\\x00\\rIHDR\\x00\\x00\\x02K\\x00\\x00\\x02\\xf0\\x08\\x06\\x00\\x00\\…"
      ]
     },
     "metadata": {},
     "output_type": "display_data"
    }
   ],
   "source": [
    "for img, (texts, bboxes, _, _) in plt.hbox(zip(images, textboxes), dpi=180):\n",
    "    img = np.array(img)\n",
    "    img = bbv.draw_multiple_rectangles(img, bboxes=bboxes, bbox_color=(255, 0, 0), is_opaque=True)\n",
    "    plt.imshow(img)"
   ]
  }
 ],
 "metadata": {
  "kernelspec": {
   "display_name": "Python 3",
   "language": "python",
   "name": "python3"
  },
  "language_info": {
   "codemirror_mode": {
    "name": "ipython",
    "version": 3
   },
   "file_extension": ".py",
   "mimetype": "text/x-python",
   "name": "python",
   "nbconvert_exporter": "python",
   "pygments_lexer": "ipython3",
   "version": "3.10.9"
  }
 },
 "nbformat": 4,
 "nbformat_minor": 2
}
